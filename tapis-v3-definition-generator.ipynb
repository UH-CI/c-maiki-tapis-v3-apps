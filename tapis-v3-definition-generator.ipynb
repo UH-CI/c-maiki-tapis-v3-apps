{
 "cells": [
  {
   "cell_type": "code",
   "execution_count": 17,
   "id": "cfd0c75d",
   "metadata": {},
   "outputs": [],
   "source": [
    "import json"
   ]
  },
  {
   "cell_type": "code",
   "execution_count": 18,
   "id": "431a2da9",
   "metadata": {},
   "outputs": [],
   "source": [
    "def extract_parameters(schema):\n",
    "    \"\"\" Extract parameters from the schema into a list of dicts suitable for appArgs. \"\"\"\n",
    "    app_description = schema[\"description\"]\n",
    "    defs = schema[\"definitions\"]\n",
    "    \n",
    "    # Sections to skip\n",
    "    skip_sections = {\n",
    "        \"pipeline_report\",\n",
    "        \"generic_options\",\n",
    "        \"max_job_request_options\",\n",
    "        \"institutional_config_options\"\n",
    "    }\n",
    "\n",
    "    app_args = []\n",
    "    for definition_key, section_value in defs.items():\n",
    "        if definition_key in skip_sections:\n",
    "            continue  \n",
    "\n",
    "        properties = section_value.get(\"properties\", {})\n",
    "        for param, details in properties.items():\n",
    "            # Check if a default value is provided and include it in the arg string\n",
    "            if \"default\" in details:\n",
    "                arg_value = f\"--{param} {details['default']}\"\n",
    "            else:\n",
    "                arg_value = f\"--{param}\"\n",
    "\n",
    "            if details.get(\"type\") == \"boolean\":\n",
    "                input_mode = \"INCLUDE_ON_DEMAND\"\n",
    "            else:\n",
    "                input_mode = \"REQUIRED\"\n",
    "\n",
    "            arg_entry = {\n",
    "                \"name\": param,\n",
    "                \"arg\": arg_value,\n",
    "                \"description\": details.get(\"description\", \"\"),\n",
    "                \"inputMode\": input_mode\n",
    "            }\n",
    "            app_args.append(arg_entry)\n",
    "    return app_description, app_args\n"
   ]
  },
  {
   "cell_type": "code",
   "execution_count": 19,
   "id": "4f78b35a",
   "metadata": {},
   "outputs": [],
   "source": [
    "file_path = './nextflow_schema.json'\n",
    "\n",
    "with open(file_path, 'r') as file:\n",
    "    schema = json.load(file)\n",
    "\n",
    "app_description, app_args = extract_parameters(schema)"
   ]
  },
  {
   "cell_type": "markdown",
   "id": "7e1a5da3",
   "metadata": {},
   "source": [
    "### Application definition template"
   ]
  },
  {
   "cell_type": "code",
   "execution_count": 20,
   "id": "c370e6d4",
   "metadata": {},
   "outputs": [],
   "source": [
    "app_name = \"ampliseq\"\n",
    "app_id_hpc = \"ampliseq_pipeline_test\"\n",
    "version = \"0.1\"\n",
    "user = \"andyyu\"\n",
    "system_id_hpc = \"test-zip-koa-hpc-andyyu\"\n",
    "memory_mb = 16000\n",
    "max_minutes = 30"
   ]
  },
  {
   "cell_type": "code",
   "execution_count": 21,
   "id": "80b3d2da",
   "metadata": {},
   "outputs": [],
   "source": [
    "app_def_hpc= {\n",
    "    \"id\": app_name,\n",
    "    \"version\": version,\n",
    "    \"description\": app_description,\n",
    "    \"runtime\": \"ZIP\",\n",
    "    \"runtimeOptions\": [\"NONE\"],\n",
    "    \"strictFileInputs\": False,\n",
    "    \"containerImage\": f\"/home/{user}/koa_scratch/apps/{app_id_hpc}-pipeline-app-v{version}.tar.gz\",\n",
    "    \"jobType\": \"BATCH\",\n",
    "    \"jobAttributes\": {\n",
    "        \"archiveOnAppError\": True,\n",
    "        \"archiveSystemId\": system_id_hpc,\n",
    "        \"archiveSystemDir\": \"${JobWorkingDir}/jobs/${JobUUID}\",\n",
    "        \"execSystemId\": system_id_hpc,\n",
    "        \"parameterSet\": {\n",
    "            \"archiveFilter\": {\n",
    "                \"includeLaunchFiles\": False\n",
    "            },\n",
    "            \"appArgs\": app_args\n",
    "\n",
    "        },\n",
    "        \"memoryMB\": memory_mb,\n",
    "        \"nodeCount\": 1,\n",
    "        \"coresPerNode\": 1,\n",
    "        \"maxMinutes\": max_minutes\n",
    "    },\n",
    "}"
   ]
  },
  {
   "cell_type": "code",
   "execution_count": null,
   "id": "0ab821ea",
   "metadata": {},
   "outputs": [],
   "source": []
  }
 ],
 "metadata": {
  "kernelspec": {
   "display_name": "Python 3 (ipykernel)",
   "language": "python",
   "name": "python3"
  },
  "language_info": {
   "codemirror_mode": {
    "name": "ipython",
    "version": 3
   },
   "file_extension": ".py",
   "mimetype": "text/x-python",
   "name": "python",
   "nbconvert_exporter": "python",
   "pygments_lexer": "ipython3",
   "version": "3.12.2"
  }
 },
 "nbformat": 4,
 "nbformat_minor": 5
}
